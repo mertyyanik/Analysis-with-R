{
  "nbformat": 4,
  "nbformat_minor": 0,
  "metadata": {
    "colab": {
      "name": "gradCam.ipynb",
      "provenance": [],
      "collapsed_sections": [],
      "include_colab_link": true
    },
    "kernelspec": {
      "name": "python3",
      "display_name": "Python 3"
    },
    "accelerator": "GPU"
  },
  "cells": [
    {
      "cell_type": "markdown",
      "metadata": {
        "id": "view-in-github",
        "colab_type": "text"
      },
      "source": [
        "<a href=\"https://colab.research.google.com/github/mertyyanik/Analysis-with-R/blob/master/gradCam.ipynb\" target=\"_parent\"><img src=\"https://colab.research.google.com/assets/colab-badge.svg\" alt=\"Open In Colab\"/></a>"
      ]
    },
    {
      "cell_type": "code",
      "metadata": {
        "id": "VY7Rp1O0os5O",
        "colab_type": "code",
        "colab": {}
      },
      "source": [
        "from google.colab import drive\n",
        "drive.mount('/content/drive')"
      ],
      "execution_count": 0,
      "outputs": []
    },
    {
      "cell_type": "code",
      "metadata": {
        "id": "vV2kQV4Ootk0",
        "colab_type": "code",
        "colab": {}
      },
      "source": [
        "%cd /content/drive/My Drive"
      ],
      "execution_count": 0,
      "outputs": []
    },
    {
      "cell_type": "code",
      "metadata": {
        "id": "Gr0rR7qmo9I0",
        "colab_type": "code",
        "colab": {}
      },
      "source": [
        "!git clone https://github.com/mertyyanik/Grad-CAM-tensorflow"
      ],
      "execution_count": 0,
      "outputs": []
    },
    {
      "cell_type": "code",
      "metadata": {
        "id": "rMiWZnBppWar",
        "colab_type": "code",
        "colab": {}
      },
      "source": [
        "%cd /content/drive/My Drive/Grad-CAM-tensorflow/model\n",
        "\n",
        "!wget http://download.tensorflow.org/models/resnet_v1_101_2016_08_28.tar.gz\n",
        "\n",
        "!tar xvf resnet_v1_101_2016_08_28.tar.gz\n",
        "\n",
        "%cd .."
      ],
      "execution_count": 0,
      "outputs": []
    },
    {
      "cell_type": "code",
      "metadata": {
        "id": "PVHlcRdHFR7j",
        "colab_type": "code",
        "colab": {}
      },
      "source": [
        "%cd /content/drive/My Drive/Grad-CAM-tensorflow"
      ],
      "execution_count": 0,
      "outputs": []
    },
    {
      "cell_type": "code",
      "metadata": {
        "id": "aJB4bgyuB3Hi",
        "colab_type": "code",
        "colab": {}
      },
      "source": [
        "%tensorflow_version 1.x\n",
        "\n",
        "from tensorflow.python.framework import ops\n",
        "from tensorflow.python.ops import gen_nn_ops\n",
        "\n",
        "@ops.RegisterGradient(\"GuidedRelu\")\n",
        "def _GuidedReluGrad(op, grad):\n",
        "    return tf.where(0. < grad, gen_nn_ops.relu_grad(grad, op.outputs[0]), tf.zeros(grad.get_shape()))"
      ],
      "execution_count": 0,
      "outputs": []
    },
    {
      "cell_type": "code",
      "metadata": {
        "id": "nyRfrYNJpJ_g",
        "colab_type": "code",
        "colab": {}
      },
      "source": [
        "%reload_ext autoreload\n",
        "%autoreload 2\n",
        "%matplotlib inline\n",
        "\n",
        "import numpy as np\n",
        "\n",
        "from slim.nets import resnet_v1\n",
        "\n",
        "import tensorflow as tf\n",
        "slim = tf.contrib.slim\n",
        "\n",
        "import utils\n",
        "\n",
        "def gradCamLoadWeights():\n",
        "\n",
        "  # Create tensorflow graph for evaluation\n",
        "  eval_graph = tf.Graph()\n",
        "  with eval_graph.as_default():\n",
        "      with eval_graph.gradient_override_map({'Relu': 'GuidedRelu'}):\n",
        "          images = tf.placeholder(\"float\", [224, 224, 3])\n",
        "          labels = tf.placeholder(tf.float32, [1000])\n",
        "          \n",
        "          preprocessed_images = utils.resnet_preprocess(images)\n",
        "          \n",
        "          with slim.arg_scope(resnet_v1.resnet_arg_scope()):\n",
        "              with slim.arg_scope([slim.batch_norm], is_training=False):\n",
        "                  net, end_points = resnet_v1.resnet_v1_101(preprocessed_images, 1000)\n",
        "          prob = end_points['predictions'] # after softmax\n",
        "          \n",
        "          cost = (-1) * tf.reduce_sum(tf.multiply(labels, tf.log(prob)), axis=1)\n",
        "          print('cost:', cost)\n",
        "          y_c = tf.reduce_sum(tf.multiply(net, labels), axis=1)\n",
        "          print('y_c:', y_c)\n",
        "\n",
        "          # Get last convolutional layer gradient for generating gradCAM visualization\n",
        "          # print('endpoints:', end_points.keys())\n",
        "          target_conv_layer = end_points['resnet_v1_101/block4/unit_2/bottleneck_v1']\n",
        "          target_conv_layer_grad = tf.gradients(y_c, target_conv_layer)[0]\n",
        "\n",
        "          # Guided backpropagtion back to input layer\n",
        "          gb_grad = tf.gradients(cost, images)[0]\n",
        "\n",
        "          init = tf.global_variables_initializer()\n",
        "          \n",
        "          # Load resnet v1 weights\n",
        "          \n",
        "          # latest_checkpoint = tf.train.latest_checkpoint(\"model/resnet_v1_50.ckpt\")\n",
        "          latest_checkpoint = \"model/resnet_v1_101.ckpt\"\n",
        "          ## Optimistic restore.\n",
        "          reader = tf.train.NewCheckpointReader(latest_checkpoint)\n",
        "          saved_shapes = reader.get_variable_to_shape_map()\n",
        "          variables_to_restore = tf.global_variables()\n",
        "          for var in variables_to_restore:\n",
        "            if not var.name.split(':')[0] in saved_shapes:\n",
        "              print(\"WARNING. Saved weight not exists in checkpoint. Init var:\", var.name)\n",
        "            else:\n",
        "              # print(\"Load saved weight:\", var.name)\n",
        "              pass\n",
        "\n",
        "          var_names = sorted([(var.name, var.name.split(':')[0]) for var in variables_to_restore\n",
        "                  if var.name.split(':')[0] in saved_shapes])\n",
        "          restore_vars = []\n",
        "          with tf.variable_scope('', reuse=True):\n",
        "              for var_name, saved_var_name in var_names:\n",
        "                  try:\n",
        "                      curr_var = tf.get_variable(saved_var_name)\n",
        "                      var_shape = curr_var.get_shape().as_list()\n",
        "                      if var_shape == saved_shapes[saved_var_name]:\n",
        "                          # print(\"restore var:\", saved_var_name)\n",
        "                          restore_vars.append(curr_var)\n",
        "                  except ValueError:\n",
        "                      print(\"Ignore due to ValueError on getting var:\", saved_var_name) \n",
        "          saver = tf.train.Saver(restore_vars)\n",
        "\n",
        "          dictionary = {}\n",
        "\n",
        "          dictionary['eval_graph'] = eval_graph\n",
        "          dictionary['init'] = init\n",
        "          dictionary['latest_checkpoint'] = latest_checkpoint\n",
        "          dictionary['prob'] = prob\n",
        "          dictionary['images'] = images\n",
        "          dictionary['gb_grad'] = gb_grad\n",
        "          dictionary['target_conv_layer'] = target_conv_layer\n",
        "          dictionary['target_conv_layer_grad'] = target_conv_layer_grad\n",
        "          dictionary['labels'] = labels\n",
        "          dictionary['saver'] = saver\n",
        "\n",
        "          return dictionary\n",
        "\n",
        "def gradCam(image_path, dictionary):\n",
        "  eval_graph = dictionary['eval_graph']\n",
        "  init = dictionary['init']\n",
        "  latest_checkpoint = dictionary['latest_checkpoint']\n",
        "  prob = dictionary['prob']\n",
        "  images = dictionary['images']\n",
        "  gb_grad = dictionary['gb_grad']\n",
        "  target_conv_layer = dictionary['target_conv_layer']\n",
        "  target_conv_layer_grad =  dictionary['target_conv_layer_grad']\n",
        "  labels = dictionary['labels']\n",
        "  saver = dictionary['saver']\n",
        "\n",
        "  # Create mini-batch for demo\n",
        "\n",
        "  img1 = utils.load_image(image_path, normalize=False)\n",
        "  #img2 = utils.load_image(\"/content/drive/My Drive/00116_fake_0_.jpg\", normalize=False)\n",
        "  #img3 = utils.load_image(\"/content/drive/My Drive/00116_real_0_.jpg\", normalize=False)\n",
        "\n",
        "  batch1_img = img1.reshape((1, 224, 224, 3))\n",
        "  batch1_label = np.array([1 if i == 242 else 0 for i in range(1000)])  # 1-hot result for Boxer\n",
        "  batch1_label = batch1_label.reshape(1, -1)\n",
        "  \"\"\"\n",
        "  batch2_img = img2.reshape((1, 224, 224, 3))\n",
        "  batch2_label = np.array([1 if i == 155 else 0 for i in range(1000)])  # 1-hot result for Shih-Tzu\n",
        "  batch2_label = batch2_label.reshape(1, -1)\n",
        "\n",
        "  batch3_img = img3.reshape((1, 224, 224, 3))\n",
        "  batch3_label = np.array([1 if i == 292 else 0 for i in range(1000)])  # 1-hot result for tiger\n",
        "  batch3_label = batch3_label.reshape(1, -1)\n",
        "  \"\"\"\n",
        "  batch_img = np.concatenate((batch1_img), 0)\n",
        "  batch_label = np.concatenate((batch1_label), 0)\n",
        "  batch_size = 1\n",
        "\n",
        "\n",
        "  # Run tensorflow \n",
        "\n",
        "  with tf.Session(graph=eval_graph) as sess:    \n",
        "      sess.run(init)    \n",
        "      # sess.run(tf.local_variables_initializer())\n",
        "      saver.restore(sess, latest_checkpoint)\n",
        "      \n",
        "      prob = sess.run(prob, feed_dict={images: batch_img})\n",
        "      \n",
        "      # gb_grad_value, target_conv_layer_value, target_conv_layer_grad_value = sess.run([gb_grad, target_conv_layer, target_conv_layer_grad], feed_dict={images: batch_img, labels: prob})\n",
        "      gb_grad_value, target_conv_layer_value, target_conv_layer_grad_value = sess.run([gb_grad, target_conv_layer, target_conv_layer_grad], feed_dict={images: batch_img, labels: batch_label})    \n",
        "      \n",
        "      for i in range(batch_size):\n",
        "          utils.visualize(batch_img[i], target_conv_layer_value[i], target_conv_layer_grad_value[i], gb_grad_value[i])"
      ],
      "execution_count": 0,
      "outputs": []
    },
    {
      "cell_type": "code",
      "metadata": {
        "id": "5ckSqFa0qvTe",
        "colab_type": "code",
        "colab": {}
      },
      "source": [
        "dictionary = gradCamLoadWeights()"
      ],
      "execution_count": 0,
      "outputs": []
    },
    {
      "cell_type": "code",
      "metadata": {
        "id": "4YO9PHaa8SFO",
        "colab_type": "code",
        "outputId": "2becf074-6097-4d84-a85e-07e1a4168b1f",
        "colab": {
          "base_uri": "https://localhost:8080/",
          "height": 312
        }
      },
      "source": [
        "gradCam(image_path = '/content/frame1.jpg', dictionary = dictionary)"
      ],
      "execution_count": 0,
      "outputs": [
        {
          "output_type": "stream",
          "text": [
            "INFO:tensorflow:Restoring parameters from model/resnet_v1_101.ckpt\n",
            "grads_val shape: (7, 7, 2048)\n",
            "gb_viz shape: (224, 3)\n"
          ],
          "name": "stdout"
        },
        {
          "output_type": "display_data",
          "data": {
            "image/png": "[encoded data removed]",
            "text/plain": [
              "<Figure size 864x1152 with 1 Axes>"
            ]
          },
          "metadata": {
            "tags": []
          }
        }
      ]
    },
    {
      "cell_type": "code",
      "metadata": {
        "id": "RFDC6ncx8kY9",
        "colab_type": "code",
        "colab": {}
      },
      "source": [
        ""
      ],
      "execution_count": 0,
      "outputs": []
    }
  ]
}